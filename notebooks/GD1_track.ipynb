{
 "cells": [
  {
   "cell_type": "code",
   "execution_count": 1,
   "id": "55297fe0",
   "metadata": {},
   "outputs": [],
   "source": [
    "import pathlib\n",
    "import warnings\n",
    "warnings.filterwarnings('ignore')\n",
    "import os\n",
    "\n",
    "# Third-party\n",
    "import astropy.coordinates as coord\n",
    "from astropy.io import fits\n",
    "import astropy.units as u\n",
    "import matplotlib as mpl\n",
    "import matplotlib.pyplot as plt\n",
    "import numpy as np\n",
    "import pandas as pd\n",
    "%matplotlib inline\n",
    "\n",
    "import gala.coordinates as gc\n",
    "from pyia import GaiaData"
   ]
  },
  {
   "cell_type": "code",
   "execution_count": 3,
   "id": "f476b3ce",
   "metadata": {},
   "outputs": [
    {
     "data": {
      "text/plain": [
       "<GaiaData: 1530 rows>"
      ]
     },
     "execution_count": 3,
     "metadata": {},
     "output_type": "execute_result"
    }
   ],
   "source": [
    "g_track = GaiaData('data/gd1_pass_cuts.fits')\n",
    "g_track"
   ]
  },
  {
   "cell_type": "code",
   "execution_count": 5,
   "id": "6b4e6b1c",
   "metadata": {},
   "outputs": [],
   "source": [
    "dist = g_track.get_distance(min_parallax=1e-3*u.mas)\n",
    "c = g_track.get_skycoord(distance=dist)\n",
    "stream_coord = c.transform_to(gc.GD1)\n",
    "phi1 = stream_coord.phi1.degree\n",
    "phi2 = stream_coord.phi2.degree"
   ]
  },
  {
   "cell_type": "markdown",
   "id": "09d852d8",
   "metadata": {},
   "source": [
    "## Stream Track"
   ]
  },
  {
   "cell_type": "code",
   "execution_count": 78,
   "id": "5da49a0f",
   "metadata": {},
   "outputs": [
    {
     "name": "stdout",
     "output_type": "stream",
     "text": [
      "[-87.5 -82.5 -77.5 -72.5 -67.5 -62.5 -57.5 -52.5 -47.5 -42.5 -37.5 -32.5\n",
      " -27.5 -22.5 -17.5 -12.5  -7.5  -2.5   2.5   7.5] [-9.95 -9.85 -9.75 -9.65 -9.55 -9.45 -9.35 -9.25 -9.15 -9.05 -8.95 -8.85\n",
      " -8.75 -8.65 -8.55 -8.45 -8.35 -8.25 -8.15 -8.05 -7.95 -7.85 -7.75 -7.65\n",
      " -7.55 -7.45 -7.35 -7.25 -7.15 -7.05 -6.95 -6.85 -6.75 -6.65 -6.55 -6.45\n",
      " -6.35 -6.25 -6.15 -6.05 -5.95 -5.85 -5.75 -5.65 -5.55 -5.45 -5.35 -5.25\n",
      " -5.15 -5.05 -4.95 -4.85 -4.75 -4.65 -4.55 -4.45 -4.35 -4.25 -4.15 -4.05\n",
      " -3.95 -3.85 -3.75 -3.65 -3.55 -3.45 -3.35 -3.25 -3.15 -3.05 -2.95 -2.85\n",
      " -2.75 -2.65 -2.55 -2.45 -2.35 -2.25 -2.15 -2.05 -1.95 -1.85 -1.75 -1.65\n",
      " -1.55 -1.45 -1.35 -1.25 -1.15 -1.05 -0.95 -0.85 -0.75 -0.65 -0.55 -0.45\n",
      " -0.35 -0.25 -0.15 -0.05  0.05  0.15  0.25  0.35  0.45  0.55  0.65  0.75\n",
      "  0.85  0.95  1.05  1.15  1.25  1.35  1.45  1.55  1.65  1.75  1.85  1.95\n",
      "  2.05  2.15  2.25  2.35  2.45  2.55  2.65  2.75  2.85  2.95  3.05  3.15\n",
      "  3.25  3.35  3.45  3.55  3.65  3.75  3.85  3.95  4.05  4.15  4.25  4.35\n",
      "  4.45  4.55  4.65  4.75  4.85  4.95]\n"
     ]
    }
   ],
   "source": [
    "phi1_min, phi1_max = -90, 10 #gd1\n",
    "phi2_min, phi2_max = -10, 5\n",
    "\n",
    "pixscale1=5\n",
    "pixscale2=0.1\n",
    "\n",
    "nphi1pix = int((phi1_max-phi1_min)/pixscale1)+1 # for a 0.2 x 0.05 pixel size\n",
    "nphi2pix = int((phi2_max-phi2_min)/pixscale2)+1 # for a 0.2 x 0.05 pixel size\n",
    "\n",
    "p1 = np.linspace(phi1_min,phi1_max,nphi1pix)\n",
    "p2 = np.linspace(phi2_min,phi2_max,nphi2pix)\n",
    "pp1,pp2 = np.meshgrid(p1,p2)\n",
    "\n",
    "bins = [nphi1pix, nphi2pix]\n",
    "bin_centers_phi1, bin_centers_phi2 = np.copy(p1[:-1]), np.copy(p2[:-1])\n",
    "for i in range(len(p1)-1):\n",
    "     bin_centers_phi1[i] = (p1[i]+p1[i+1])/2 \n",
    "for i in range(len(p2)-1):\n",
    "    bin_centers_phi2[i] = (p2[i]+p2[i+1])/2 \n",
    "\n",
    "gd1_stream_catalog = np.histogram2d(phi1, phi2, bins)[0]"
   ]
  },
  {
   "cell_type": "code",
   "execution_count": 88,
   "id": "0c31c60e",
   "metadata": {},
   "outputs": [
    {
     "data": {
      "image/png": "[encoded data removed]",
      "text/plain": [
       "<Figure size 864x216 with 1 Axes>"
      ]
     },
     "metadata": {
      "needs_background": "light"
     },
     "output_type": "display_data"
    }
   ],
   "source": [
    "plt.figure(figsize=(12,3))\n",
    "plt.pcolormesh(pp1, pp2,np.transpose(gd1_stream_catalog), cmap='gray_r',vmax=4, shading='flat')\n",
    "plt.xlabel(r'$\\phi_1$ [deg]'); plt.ylabel(r'$\\phi_2$ [deg]')\n",
    "plt.show()"
   ]
  },
  {
   "cell_type": "code",
   "execution_count": 103,
   "id": "96716b31",
   "metadata": {},
   "outputs": [
    {
     "name": "stdout",
     "output_type": "stream",
     "text": [
      "[ 1.  3.  3.  3.  2.  2.  5.  7. 10. 11.  6. 11. 11. 15.  5.  8. 15.  8.\n",
      " 11.  7.  4.]\n"
     ]
    }
   ],
   "source": [
    "aa = np.apply_along_axis(np.max, axis=1, arr=gd1_stream_catalog)\n",
    "print(aa)"
   ]
  },
  {
   "cell_type": "code",
   "execution_count": 104,
   "id": "fb4a0980",
   "metadata": {},
   "outputs": [
    {
     "name": "stdout",
     "output_type": "stream",
     "text": [
      "[  7  14  22  25  36  37  43  58  63  73  97 104 135 137]\n",
      "[79]\n",
      "[85]\n",
      "[90]\n",
      "[37 82 84 88 91]\n",
      "[ 91  92  93  94  95 100]\n",
      "[92]\n",
      "[ 98 100]\n",
      "[102]\n",
      "[102]\n",
      "[98]\n",
      "[101]\n",
      "[100]\n",
      "[101]\n",
      "[102]\n",
      "[101]\n",
      "[99]\n",
      "[96]\n",
      "[89]\n",
      "[86]\n",
      "[84]\n"
     ]
    }
   ],
   "source": [
    "b = []\n",
    "for i in range(len(gd1_stream_catalog)):\n",
    "    bb = np.where(gd1_stream_catalog[i] == aa[i])[0]\n",
    "    print(bb)\n",
    "    b = np.append(b, np.median(bb))\n",
    "b = np.around(b,0)\n",
    "b = b.astype(int)\n",
    "b"
   ]
  },
  {
   "cell_type": "code",
   "execution_count": 150,
   "id": "4bfd8788",
   "metadata": {},
   "outputs": [
    {
     "data": {
      "text/plain": [
       "Text(0, 0.5, '$\\\\phi_2$ [deg]')"
      ]
     },
     "execution_count": 150,
     "metadata": {},
     "output_type": "execute_result"
    },
    {
     "data": {
      "image/png": "[encoded data removed]",
      "text/plain": [
       "<Figure size 1080x216 with 1 Axes>"
      ]
     },
     "metadata": {
      "needs_background": "light"
     },
     "output_type": "display_data"
    }
   ],
   "source": [
    "plt.figure(figsize = (15,3))\n",
    "plt.plot(bin_centers_phi1, bin_centers_phi2[b][:-1], linewidth=1)\n",
    "plt.pcolormesh(pp1, pp2,np.transpose(gd1_stream_catalog), cmap='gray_r')\n",
    "plt.xlabel(r'$\\phi_1$ [deg]'); plt.ylabel(r'$\\phi_2$ [deg]')"
   ]
  },
  {
   "cell_type": "code",
   "execution_count": 151,
   "id": "cee197bf",
   "metadata": {},
   "outputs": [
    {
     "name": "stdout",
     "output_type": "stream",
     "text": [
      "[[-8.75e+01 -4.95e+00]\n",
      " [-8.25e+01 -2.05e+00]\n",
      " [-7.75e+01 -1.45e+00]\n",
      " [-7.25e+01 -9.50e-01]\n",
      " [-6.75e+01 -1.55e+00]\n",
      " [-6.25e+01 -5.50e-01]\n",
      " [-5.75e+01 -7.50e-01]\n",
      " [-5.25e+01 -5.00e-02]\n",
      " [-4.75e+01  2.50e-01]\n",
      " [-4.25e+01  2.50e-01]\n",
      " [-3.75e+01 -1.50e-01]\n",
      " [-3.25e+01  1.50e-01]\n",
      " [-2.75e+01  5.00e-02]\n",
      " [-2.25e+01  1.50e-01]\n",
      " [-1.75e+01  2.50e-01]\n",
      " [-1.25e+01  1.50e-01]\n",
      " [-7.50e+00 -5.00e-02]\n",
      " [-2.50e+00 -3.50e-01]\n",
      " [ 2.50e+00 -1.05e+00]\n",
      " [ 7.50e+00 -1.35e+00]]\n"
     ]
    }
   ],
   "source": [
    "stream_track = np.vstack([bin_centers_phi1, bin_centers_phi2[b][:-1]]).T\n",
    "print(stream_track)"
   ]
  },
  {
   "cell_type": "code",
   "execution_count": 152,
   "id": "f54658d7",
   "metadata": {},
   "outputs": [],
   "source": [
    "np.save('stream_track.npy', stream_track)"
   ]
  },
  {
   "cell_type": "markdown",
   "id": "1e62b2c1",
   "metadata": {},
   "source": [
    "## Create the spur track"
   ]
  },
  {
   "cell_type": "code",
   "execution_count": 203,
   "id": "3337bd15",
   "metadata": {},
   "outputs": [],
   "source": [
    "phi1_min_spur, phi1_max_spur = -45, -25 #gd1\n",
    "phi2_min_spur, phi2_max_spur = 0.4, 2\n",
    "\n",
    "pixscale1_spur=1\n",
    "pixscale2_spur=0.1\n",
    "\n",
    "nphi1pix_spur = int((phi1_max_spur-phi1_min_spur)/pixscale1_spur)+1 # for a 0.2 x 0.05 pixel size\n",
    "nphi2pix_spur = int((phi2_max_spur-phi2_min_spur)/pixscale2_spur)+1 # for a 0.2 x 0.05 pixel size\n",
    "\n",
    "p1_spur = np.linspace(phi1_min_spur,phi1_max_spur,nphi1pix_spur)\n",
    "p2_spur = np.linspace(phi2_min_spur,phi2_max_spur,nphi2pix_spur)\n",
    "pp1_spur,pp2_spur = np.meshgrid(p1_spur,p2_spur)\n",
    "\n",
    "bins_spur = [nphi1pix_spur, nphi2pix_spur]\n",
    "bin_centers_phi1_spur, bin_centers_phi2_spur = np.copy(p1_spur[:-1]), np.copy(p2_spur[:-1])\n",
    "for i in range(len(p1_spur)-1):\n",
    "     bin_centers_phi1_spur[i] = (p1_spur[i]+p1_spur[i+1])/2 \n",
    "for i in range(len(p2_spur)-1):\n",
    "    bin_centers_phi2_spur[i] = (p2_spur[i]+p2_spur[i+1])/2 \n",
    "\n",
    "gd1_spur_catalog = np.histogram2d(phi1, phi2, bins_spur, range=[[-45,-25],[0.4,2]])[0]"
   ]
  },
  {
   "cell_type": "code",
   "execution_count": 204,
   "id": "c8a5c728",
   "metadata": {},
   "outputs": [
    {
     "data": {
      "image/png": "[encoded data removed]",
      "text/plain": [
       "<Figure size 1080x144 with 1 Axes>"
      ]
     },
     "metadata": {
      "needs_background": "light"
     },
     "output_type": "display_data"
    }
   ],
   "source": [
    "plt.figure(figsize=(15,2))\n",
    "plt.pcolormesh(pp1_spur, pp2_spur,np.transpose(gd1_spur_catalog), cmap='gray_r',vmax=4, shading='flat')\n",
    "plt.xlabel(r'$\\phi_1$ [deg]'); plt.ylabel(r'$\\phi_2$ [deg]')\n",
    "plt.show()"
   ]
  },
  {
   "cell_type": "code",
   "execution_count": 205,
   "id": "d6e1e05e",
   "metadata": {},
   "outputs": [
    {
     "name": "stdout",
     "output_type": "stream",
     "text": [
      "[1. 2. 1. 2. 0. 1. 1. 2. 1. 2. 1. 2. 2. 2. 2. 1. 1. 1. 1. 0. 1.]\n"
     ]
    }
   ],
   "source": [
    "aa_spur = np.apply_along_axis(np.max, axis=1, arr=gd1_spur_catalog)\n",
    "print(aa_spur)"
   ]
  },
  {
   "cell_type": "code",
   "execution_count": 206,
   "id": "0a96a349",
   "metadata": {},
   "outputs": [
    {
     "name": "stdout",
     "output_type": "stream",
     "text": [
      "[2 8]\n",
      "[0]\n",
      "[0 1 2 6]\n",
      "[3]\n",
      "[ 0  1  2  3  4  5  6  7  8  9 10 11 12 13 14 15 16]\n",
      "[2 3]\n",
      "[2]\n",
      "[1 4]\n",
      "[0 3 5 6 7]\n",
      "[6]\n",
      "[1 7 8 9]\n",
      "[ 8 11]\n",
      "[9]\n",
      "[8]\n",
      "[8]\n",
      "[0]\n",
      "[4]\n",
      "[ 8 11 15]\n",
      "[ 0  5  7 10 12]\n",
      "[ 0  1  2  3  4  5  6  7  8  9 10 11 12 13 14 15 16]\n",
      "[ 4  6 13]\n"
     ]
    }
   ],
   "source": [
    "b_spur = []\n",
    "for i in range(len(gd1_spur_catalog)):\n",
    "    bb_spur = np.where(gd1_spur_catalog[i] == aa_spur[i])[0]\n",
    "    print(bb_spur)\n",
    "    b_spur = np.append(b_spur, np.median(bb_spur))\n",
    "b_spur = np.around(b_spur,0)\n",
    "b_spur = b_spur.astype(int)\n",
    "b_spur"
   ]
  },
  {
   "cell_type": "code",
   "execution_count": 208,
   "id": "00f9da15",
   "metadata": {},
   "outputs": [
    {
     "data": {
      "text/plain": [
       "Text(0, 0.5, '$\\\\phi_2$ [deg]')"
      ]
     },
     "execution_count": 208,
     "metadata": {},
     "output_type": "execute_result"
    },
    {
     "data": {
      "image/png": "[encoded data removed]",
      "text/plain": [
       "<Figure size 1080x216 with 1 Axes>"
      ]
     },
     "metadata": {
      "needs_background": "light"
     },
     "output_type": "display_data"
    }
   ],
   "source": [
    "plt.figure(figsize = (15,3))\n",
    "plt.plot(bin_centers_phi1_spur, bin_centers_phi2_spur[b_spur][:-1], linewidth=5)\n",
    "plt.pcolormesh(pp1_spur, pp2_spur,np.transpose(gd1_spur_catalog), cmap='gray_r')\n",
    "plt.xlabel(r'$\\phi_1$ [deg]'); plt.ylabel(r'$\\phi_2$ [deg]')"
   ]
  },
  {
   "cell_type": "code",
   "execution_count": 212,
   "id": "e783213b",
   "metadata": {},
   "outputs": [
    {
     "name": "stdout",
     "output_type": "stream",
     "text": [
      "[[-39.5    0.35]\n",
      " [-38.5    0.65]\n",
      " [-37.5    0.85]\n",
      " [-36.5    0.95]\n",
      " [-35.5    1.05]\n",
      " [-34.5    1.25]\n",
      " [-33.5    1.35]\n",
      " [-32.5    1.35]\n",
      " [-31.5    1.25]\n",
      " [-30.5    1.25]]\n"
     ]
    }
   ],
   "source": [
    "spur_track = np.vstack([bin_centers_phi1_spur, bin_centers_phi2_spur[b_spur][:-1]]).T\n",
    "spur_track = spur_track[5:15]\n",
    "spur_track[0][1] = 0.35\n",
    "spur_track[6][1] = 1.35\n",
    "spur_track[2][1] = 0.85\n",
    "print(spur_track)"
   ]
  },
  {
   "cell_type": "code",
   "execution_count": 213,
   "id": "36bf6d21",
   "metadata": {},
   "outputs": [
    {
     "data": {
      "text/plain": [
       "Text(0, 0.5, '$\\\\phi_2$ [deg]')"
      ]
     },
     "execution_count": 213,
     "metadata": {},
     "output_type": "execute_result"
    },
    {
     "data": {
      "image/png": "[encoded data removed]",
      "text/plain": [
       "<Figure size 1080x216 with 1 Axes>"
      ]
     },
     "metadata": {
      "needs_background": "light"
     },
     "output_type": "display_data"
    }
   ],
   "source": [
    "plt.figure(figsize = (15,3))\n",
    "plt.plot(spur_track[:,0], spur_track[:,1], linewidth=5)\n",
    "plt.pcolormesh(pp1_spur, pp2_spur,np.transpose(gd1_spur_catalog), cmap='gray_r')\n",
    "plt.xlabel(r'$\\phi_1$ [deg]'); plt.ylabel(r'$\\phi_2$ [deg]')"
   ]
  },
  {
   "cell_type": "code",
   "execution_count": 214,
   "id": "c57aac79",
   "metadata": {},
   "outputs": [],
   "source": [
    "np.save('spur_track.npy', spur_track)"
   ]
  },
  {
   "cell_type": "code",
   "execution_count": null,
   "id": "ebeae9fb",
   "metadata": {},
   "outputs": [],
   "source": []
  }
 ],
 "metadata": {
  "kernelspec": {
   "display_name": "Python 3 (ipykernel)",
   "language": "python",
   "name": "python3"
  },
  "language_info": {
   "codemirror_mode": {
    "name": "ipython",
    "version": 3
   },
   "file_extension": ".py",
   "mimetype": "text/x-python",
   "name": "python",
   "nbconvert_exporter": "python",
   "pygments_lexer": "ipython3",
   "version": "3.9.7"
  }
 },
 "nbformat": 4,
 "nbformat_minor": 5
}
