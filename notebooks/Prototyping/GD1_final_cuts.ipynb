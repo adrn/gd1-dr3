{
 "cells": [
  {
   "cell_type": "markdown",
   "id": "62b13f03",
   "metadata": {},
   "source": [
    "# Selecting Stars in GD1 by Applying Color and Proper Motion Cuts"
   ]
  },
  {
   "cell_type": "markdown",
   "id": "cf70e6f4",
   "metadata": {},
   "source": [
    "This notebook consists of the final steps of the process to create the GD1 selection. It should run with no issues as long as the user has the appropriate initial fits file with extinction-corrected Gaia+PS1 data as well as an isochrone file.\n",
    "\n",
    "We make a proper motion cut dependent on $\\phi_1$. This is done by eye.\n",
    "\n",
    "We then make a color cut using an isochrone (age=11.8, [Fe/H] = -2.0). We vary the distance modulus along the stream by using 14.5 for $\\phi_1 < -10$ and 15.2 for $-10 < \\phi_1 < 10$. This is consistent withe previous results that show relatively constant distance modulus except at one end of the stream."
   ]
  },
  {
   "cell_type": "code",
   "execution_count": 10,
   "id": "2e930234",
   "metadata": {},
   "outputs": [],
   "source": [
    "import pathlib\n",
    "import warnings\n",
    "warnings.filterwarnings('ignore')\n",
    "import os\n",
    "\n",
    "# Third-party\n",
    "import astropy.coordinates as coord\n",
    "from astropy.io import fits\n",
    "import astropy.units as u\n",
    "import matplotlib as mpl\n",
    "import matplotlib.pyplot as plt\n",
    "import numpy as np\n",
    "import pandas as pd\n",
    "%matplotlib inline\n",
    "\n",
    "import gala.coordinates as gc\n",
    "from pyia import GaiaData"
   ]
  },
  {
   "cell_type": "code",
   "execution_count": 2,
   "id": "75cbe175",
   "metadata": {},
   "outputs": [],
   "source": [
    "def plot_pretty(dpi=175, fontsize=15, labelsize=15, figsize=(10, 8), tex=True):\n",
    "    # import pyplot and set some parameters to make plots prettier\n",
    "    plt.rc('savefig', dpi=dpi)\n",
    "    plt.rc('text', usetex=tex)\n",
    "    plt.rc('font', size=fontsize)\n",
    "    plt.rc('xtick.major', pad=1)\n",
    "    plt.rc('xtick.minor', pad=1)\n",
    "    plt.rc('ytick.major', pad=1)\n",
    "    plt.rc('ytick.minor', pad=1)\n",
    "    plt.rc('figure', figsize=figsize)\n",
    "    mpl.rcParams['xtick.labelsize'] = labelsize\n",
    "    mpl.rcParams['ytick.labelsize'] = labelsize\n",
    "    mpl.rcParams.update({'figure.autolayout': False})\n",
    "    \n",
    "plot_pretty(fontsize=20, labelsize=20)"
   ]
  },
  {
   "cell_type": "code",
   "execution_count": 3,
   "id": "f4094481",
   "metadata": {},
   "outputs": [
    {
     "data": {
      "text/plain": [
       "<GaiaData: 5097111 rows>"
      ]
     },
     "execution_count": 3,
     "metadata": {},
     "output_type": "execute_result"
    }
   ],
   "source": [
    "g_ps = GaiaData('data/gd1_gaia_ps1_all.fits')\n",
    "g_ps"
   ]
  },
  {
   "cell_type": "code",
   "execution_count": 4,
   "id": "f8a7130f",
   "metadata": {},
   "outputs": [],
   "source": [
    "dist_ps = g_ps.get_distance(min_parallax=1e-3*u.mas)\n",
    "c = g_ps.get_skycoord(distance=dist_ps)\n",
    "stream_coord = c.transform_to(gc.GD1)\n",
    "phi1_ps = stream_coord.phi1.degree\n",
    "phi2_ps = stream_coord.phi2.degree\n",
    "ps_pm1 = stream_coord.pm_phi1_cosphi2\n",
    "ps_pm2 = stream_coord.pm_phi2"
   ]
  },
  {
   "cell_type": "code",
   "execution_count": 5,
   "id": "1bf3633a",
   "metadata": {},
   "outputs": [],
   "source": [
    "# for 0: the pm cut is not as clear for this one by eye, maybe 2D algorithm can improve it\n",
    "ps_pm_ind0 = np.where((ps_pm1.value<-6.5) & (ps_pm1.value > -10) & (ps_pm2.value>-3.5) & (ps_pm2.value<-1)\n",
    "                 & (phi1_ps<10) & (phi1_ps>0))\n",
    "g_ps_pmcut0 = g_ps[ps_pm_ind0]\n",
    "\n",
    "# for -10: the pm cut is not as clear for this one by eye, maybe 2D algorithm can improve it\n",
    "ps_pm_ind_10 = np.where((ps_pm1.value<-7.5) & (ps_pm1.value > -11) & (ps_pm2.value>-3.5) & (ps_pm2.value<-1.5)\n",
    "                 & (phi1_ps<0) & (phi1_ps>-10))\n",
    "g_ps_pmcut_10 = g_ps[ps_pm_ind_10]\n",
    "\n",
    "# for -20\n",
    "ps_pm_ind_20 = np.where((ps_pm1.value<-9) & (ps_pm1.value > -12.5) & (ps_pm2.value>-3.5) & (ps_pm2.value<-1.5)\n",
    "                 & (phi1_ps<-10) & (phi1_ps>-20))\n",
    "g_ps_pmcut_20 = g_ps[ps_pm_ind_20]\n",
    "\n",
    "# for -30\n",
    "ps_pm_ind_30 = np.where((ps_pm1.value<-10.5) & (ps_pm1.value > -14) & (ps_pm2.value>-4.5) & (ps_pm2.value<-1.5)\n",
    "                    & (phi1_ps<-20) & (phi1_ps>-30))\n",
    "g_ps_pmcut_30 = g_ps[ps_pm_ind_30]\n",
    "\n",
    "# for -40\n",
    "ps_pm_ind_40 = np.where((ps_pm1.value<-11.5) & (ps_pm1.value > -14.5) & (ps_pm2.value>-4.5) & (ps_pm2.value<-2)\n",
    "                    & (phi1_ps<-30) & (phi1_ps>-40))\n",
    "g_ps_pmcut_40 = g_ps[ps_pm_ind_40]\n",
    "\n",
    "# for -50\n",
    "ps_pm_ind_50 = np.where((ps_pm1.value<-11.5) & (ps_pm1.value > -14.5) & (ps_pm2.value>-5) & (ps_pm2.value<-2.5)\n",
    "                    & (phi1_ps<-40) & (phi1_ps>-50))\n",
    "g_ps_pmcut_50 = g_ps[ps_pm_ind_50]\n",
    "\n",
    "# for -60\n",
    "ps_pm_ind_60 = np.where((ps_pm1.value<-11.5) & (ps_pm1.value > -14.5) & (ps_pm2.value>-5) & (ps_pm2.value<-2.5)\n",
    "                    & (phi1_ps<-50) & (phi1_ps>-60))\n",
    "g_ps_pmcut_60 = g_ps[ps_pm_ind_60]\n",
    "\n",
    "# for -70\n",
    "ps_pm_ind_70 = np.where((ps_pm1.value<-10.5) & (ps_pm1.value > -13.5) & (ps_pm2.value>-5) & (ps_pm2.value<-2.5)\n",
    "                    & (phi1_ps<-60) & (phi1_ps>-70))\n",
    "g_ps_pmcut_70 = g_ps[ps_pm_ind_70]\n",
    "\n",
    "# for -80\n",
    "ps_pm_ind_80 = np.where((ps_pm1.value<-9) & (ps_pm1.value > -11.5) & (ps_pm2.value>-5.5) & (ps_pm2.value<-2)\n",
    "                    & (phi1_ps<-70) & (phi1_ps>-80))\n",
    "g_ps_pmcut_80 = g_ps[ps_pm_ind_80]\n",
    "\n",
    "# for -90\n",
    "ps_pm_ind_90 = np.where((ps_pm1.value<-8.5) & (ps_pm1.value > -10.5) & (ps_pm2.value>-5.5) & (ps_pm2.value<-2)\n",
    "                    & (phi1_ps<-80) & (phi1_ps>-90))\n",
    "g_ps_pmcut_90 = g_ps[ps_pm_ind_90]"
   ]
  },
  {
   "cell_type": "code",
   "execution_count": 6,
   "id": "d6bec308",
   "metadata": {},
   "outputs": [],
   "source": [
    "ps_pm_ind = np.concatenate([ps_pm_ind0[0], ps_pm_ind_10[0],ps_pm_ind_20[0], ps_pm_ind_30[0], ps_pm_ind_40[0], \n",
    "                         ps_pm_ind_50[0], ps_pm_ind_60[0], ps_pm_ind_70[0], ps_pm_ind_80[0], ps_pm_ind_90[0]])\n",
    "g_ps_pmcut = g_ps[ps_pm_ind]"
   ]
  },
  {
   "cell_type": "code",
   "execution_count": 7,
   "id": "5af6d931",
   "metadata": {},
   "outputs": [],
   "source": [
    "dist = g_ps_pmcut.get_distance(min_parallax=1e-3*u.mas)\n",
    "c = g_ps_pmcut.get_skycoord(distance=dist)\n",
    "stream_coord = c.transform_to(gc.GD1)\n",
    "phi1_ps_pmcut = stream_coord.phi1.degree\n",
    "phi2_ps_pmcut = stream_coord.phi2.degree"
   ]
  },
  {
   "cell_type": "code",
   "execution_count": 8,
   "id": "d1ab15f3",
   "metadata": {},
   "outputs": [],
   "source": [
    "g0 = g_ps_pmcut['g_0']\n",
    "i0 = g_ps_pmcut['i_0']"
   ]
  },
  {
   "cell_type": "code",
   "execution_count": 11,
   "id": "fd11002e",
   "metadata": {},
   "outputs": [],
   "source": [
    "iso=pd.read_csv('data/isochrones/ps1_isochrone_age11.8_z-2.0.csv')[17:50]\n",
    "\n",
    "#creating a polygon by isochrone\n",
    "iso_contour = np.concatenate((np.vstack([iso.gP1mag-iso.iP1mag +0.1, iso.gP1mag]).T, \n",
    "                np.flip(np.vstack([iso.gP1mag-iso.iP1mag -0.05, iso.gP1mag]).T, axis = 0)))\n",
    "\n",
    "#for -10 to 10, which seems to be slightly farther than everything else\n",
    "poly = mpl.path.Path(iso_contour)\n",
    "g_ccut_temp = g_ps_pmcut\n",
    "cm = np.vstack([g0-i0,g0-15.2]).T\n",
    "idx_iso_cut_10 = np.where(poly.contains_points(cm) & (phi1_ps_pmcut<10) & (phi1_ps_pmcut>-10))[0]\n",
    "\n",
    "#for the rest of the stream which seems to be slightly farther than everything else\n",
    "poly = mpl.path.Path(iso_contour)\n",
    "g_ccut_temp = g_ps_pmcut\n",
    "cm = np.vstack([g0-i0,g0-14.5]).T\n",
    "idx_iso_cut_rest = np.where(poly.contains_points(cm) & (phi1_ps_pmcut<-10))[0]\n",
    "\n",
    "\n",
    "ps_phi1_isocut = np.concatenate([idx_iso_cut_10, idx_iso_cut_rest])\n",
    "g_ps_phi1_isocut = g_ps_pmcut[ps_phi1_isocut]\n",
    "\n",
    "dist = g_ps_phi1_isocut.get_distance(min_parallax=1e-3*u.mas)\n",
    "c = g_ps_phi1_isocut.get_skycoord(distance=dist)\n",
    "stream_coord = c.transform_to(gc.GD1)\n",
    "phi1_ps_isocut_better = stream_coord.phi1.degree\n",
    "phi2_ps_isocut_better = stream_coord.phi2.degree"
   ]
  },
  {
   "cell_type": "code",
   "execution_count": 12,
   "id": "3422320d",
   "metadata": {},
   "outputs": [
    {
     "data": {
      "image/png": "[encoded data removed]",
      "text/plain": [
       "<Figure size 1080x144 with 1 Axes>"
      ]
     },
     "metadata": {
      "needs_background": "light"
     },
     "output_type": "display_data"
    }
   ],
   "source": [
    "plt.figure(figsize=(15,2))\n",
    "plt.scatter(phi1_ps_isocut_better, phi2_ps_isocut_better,s=1, c='k')\n",
    "plt.xlim(-90,10) ; plt.ylim(-10,5)\n",
    "plt.title('Final Cuts on Proper Motion and Color')\n",
    "plt.xlabel(r'$\\phi_1$') ; plt.ylabel(r'$\\phi_2$')\n",
    "plt.savefig('updated_pm_color_cuts.jpg')\n",
    "plt.show()"
   ]
  },
  {
   "cell_type": "code",
   "execution_count": 13,
   "id": "ad1530c7",
   "metadata": {},
   "outputs": [],
   "source": [
    "final_t = g_ps_phi1_isocut.data\n",
    "final_t.write('data/gd1_pass_cuts.fits', overwrite=True)"
   ]
  },
  {
   "cell_type": "code",
   "execution_count": null,
   "id": "e82a6892",
   "metadata": {},
   "outputs": [],
   "source": []
  }
 ],
 "metadata": {
  "kernelspec": {
   "display_name": "Python 3 (ipykernel)",
   "language": "python",
   "name": "python3"
  },
  "language_info": {
   "codemirror_mode": {
    "name": "ipython",
    "version": 3
   },
   "file_extension": ".py",
   "mimetype": "text/x-python",
   "name": "python",
   "nbconvert_exporter": "python",
   "pygments_lexer": "ipython3",
   "version": "3.9.7"
  }
 },
 "nbformat": 4,
 "nbformat_minor": 5
}
